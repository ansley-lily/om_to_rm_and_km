{
 "cells": [
  {
   "cell_type": "code",
   "execution_count": 71,
   "id": "a2b58fa3",
   "metadata": {},
   "outputs": [],
   "source": [
    "import pandas as pd\n",
    "import csv\n",
    "import numpy as np\n",
    "\n",
    "\n",
    "#variables\n",
    "sheet_names = ['Existing Tags - Dresses','Existing Tags - tops','Existing Tags - pants','Existing Tags - outerwear','Existing Tags - jeans','Existing Tags - shorts','Existing Tags - skirts','Existing Tags - rompers','Existing Tags - swimwear_bottom','Existing Tags - activewear_pant','Existing Tags - swimwear_tops','Existing Tags - robes','Existing Tags - underwear','Existing Tags - bras','Existing Tags - shoes','Existing Tags - hats','Existing Tags - belts','Existing Tags - scarves','Existing Tags - gloves','Existing Tags - socks_and_hosie','Existing Tags - masks','Existing Tags - bags','Existing Tags - hair_accessorie','Existing Tags - activewear_tops','Existing Tags - activewear_oute','Existing Tags - activewear_shor','Existing Tags - sunglasses','Existing Tags - umbrellas','Existing Tags - wallets','Existing Tags - ties','Existing Tags - shapewear','Existing Tags - bracelets','Existing Tags - rings','Existing Tags - earrings','Existing Tags - necklaces','Existing Tags - watches']\n",
    "# sheet_names = ['Existing Tags - Dresses']\n",
    "columns = [2, 3, 4, 5, 6, 7]\n",
    "rm_header = ['lily_tag', 'product_type', 'person_type', 'is_hidden']\n",
    "km_header = ['tag', 'parent_tag', 'product_type', 'person_type', 'retailer', 'rule_type', 'matching_fields']\n",
    "\n",
    "\n",
    "# create the csvs\n",
    "retailer_mapping = open('/Users/ansleymiller/Desktop/Onboarding_mapping/retailer_mapping.csv', 'w')\n",
    "keyword_mapping = open('/Users/ansleymiller/Desktop/Onboarding_mapping/keyword_mapping.csv', 'w')\n",
    "rm_writer = csv.writer(retailer_mapping)\n",
    "rm_writer.writerow(rm_header)\n",
    "km_writer = csv.writer(keyword_mapping)\n",
    "km_writer.writerow(km_header)\n",
    "\n",
    "# iterate through each sheet and save the data frame\n",
    "for sheet in sheet_names:\n",
    "    # import the onboarding mapping file (xlsx will have true/false instead of checkboxes)\n",
    "    data_frame = pd.read_excel(\"/Users/ansleymiller/Desktop/Onboarding_mapping/2022 - Master Onboarding List.xlsx\", sheet_name=sheet)\n",
    "    product_type = sheet.split()[-1]\n",
    "    is_hidden = \"false\"\n",
    "    retailer = \"jcrew_grp\"\n",
    "    rule_type = \"non-fabric\"\n",
    "    matching_fields = \"title description\"\n",
    "    number_of_rows = len(data_frame.index)\n",
    "    # iterate through each row\n",
    "#     print(xlsx)\n",
    "    for row in range(0, number_of_rows):\n",
    "        for column in columns:\n",
    "#             print(row)\n",
    "#             print(column)\n",
    "            value = data_frame.iat[row, column]\n",
    "#             print(value)\n",
    "            # if a box is true take and save the tag, tag_section, person type from the column that is true, and product type from the name of the sheet\n",
    "            if value:\n",
    "                tag = data_frame.iat[row, 0]\n",
    "#                 print(tag)\n",
    "                tag_section = data_frame.iat[row, 1]\n",
    "                person_type = data_frame.columns[column]\n",
    "\n",
    "                # write a row in the retailer mapping csv with lily_tag, product_type, person_type, and is_hidden (always false)\n",
    "                rm_row = [tag, product_type, person_type, is_hidden]\n",
    "                rm_writer.writerow(rm_row)\n",
    "\n",
    "                # write a row in the keyword mapping csv with tag, parent_tag, product_type, person_type, retailer, rule_type (always non-fabric), and matching_fields (always \"title description\")\n",
    "                km_row = [tag, tag_section, product_type, person_type, retailer, rule_type, matching_fields]\n",
    "                km_writer.writerow(km_row)\n",
    "\n",
    "# save the csv files\n",
    "retailer_mapping.close()\n",
    "keyword_mapping.close()\n"
   ]
  },
  {
   "cell_type": "code",
   "execution_count": 67,
   "id": "fce85c4e",
   "metadata": {},
   "outputs": [
    {
     "name": "stdout",
     "output_type": "stream",
     "text": [
      "Regular-Fit-Pant\n"
     ]
    }
   ],
   "source": [
    "xlsx = pd.read_excel(\"/Users/ansleymiller/Desktop/Onboarding_mapping/2022 - Master Onboarding List.xlsx\", sheet_name='Existing Tags - Dresses')\n",
    "print((data_frame.iloc[11,0]))"
   ]
  },
  {
   "cell_type": "code",
   "execution_count": null,
   "id": "5f517db6",
   "metadata": {},
   "outputs": [],
   "source": []
  }
 ],
 "metadata": {
  "kernelspec": {
   "display_name": "Python 3 (ipykernel)",
   "language": "python",
   "name": "python3"
  },
  "language_info": {
   "codemirror_mode": {
    "name": "ipython",
    "version": 3
   },
   "file_extension": ".py",
   "mimetype": "text/x-python",
   "name": "python",
   "nbconvert_exporter": "python",
   "pygments_lexer": "ipython3",
   "version": "3.9.7"
  }
 },
 "nbformat": 4,
 "nbformat_minor": 5
}
